{
  "nbformat": 4,
  "nbformat_minor": 0,
  "metadata": {
    "colab": {
      "provenance": []
    },
    "kernelspec": {
      "name": "python3",
      "display_name": "Python 3"
    },
    "language_info": {
      "name": "python"
    }
  },
  "cells": [
    {
      "cell_type": "markdown",
      "source": [
        "#Function Assignment"
      ],
      "metadata": {
        "id": "PNz2IjG40WLf"
      }
    },
    {
      "cell_type": "markdown",
      "source": [
        "##Theory Questions & Answers"
      ],
      "metadata": {
        "id": "AR9go0Dyvf77"
      }
    },
    {
      "cell_type": "markdown",
      "source": [
        "1. What is the difference between a function and a method in Python?\n",
        "\n",
        "   Answer: A function is a block of code that is defined using def and can be called independently whereas a method is a function that is associated with an object/class."
      ],
      "metadata": {
        "id": "HW_DMSzrvphQ"
      }
    },
    {
      "cell_type": "markdown",
      "source": [
        "2. Explain the concept of function arguments and parameters in Python.\n",
        "\n",
        "   Answer: Parameters are variables listed in the function definition and Arguments are the values passed to the function when it is called.\n",
        "\n",
        "   Example:\n",
        "   \n",
        "   def add(U, V):  # U and V are parameters\n",
        "   \n",
        "   return U + V\n",
        "   \n",
        "   add(7, 8)  # Here 7 and 8 are arguments"
      ],
      "metadata": {
        "id": "k3ASCbtDv1eZ"
      }
    },
    {
      "cell_type": "markdown",
      "source": [
        "3. What are the different ways to define and call a function in Python?\n",
        "\n",
        "   Answer: Using def keyword (standard function)\n",
        "   \n",
        "   Using lambda (anonymous function)\n",
        "\n"
      ],
      "metadata": {
        "id": "8M9Dyq1Fwokx"
      }
    },
    {
      "cell_type": "markdown",
      "source": [
        "4. What is the purpose of the return statement in a Python function?\n",
        "\n",
        "   Answer: The return statement is used to exit a function and pass the result back to the caller."
      ],
      "metadata": {
        "id": "RILiKqjSxB-p"
      }
    },
    {
      "cell_type": "markdown",
      "source": [
        "5. What are iterators in Python and how do they differ from iterables?\n",
        "\n",
        "   Answer: Iterables are objects like lists or strings that can return an iterator. Iterators are objects with __iter__() and __next__() methods."
      ],
      "metadata": {
        "id": "p4vOignOxIIj"
      }
    },
    {
      "cell_type": "markdown",
      "source": [
        "6. Explain the concept of generators in Python and how they are defined.\n",
        "\n",
        "   Answer: A generator is a special type of iterator that yields items one at a time using the yield keyword."
      ],
      "metadata": {
        "id": "KBoDZhsexR9D"
      }
    },
    {
      "cell_type": "markdown",
      "source": [
        "7. What are the advantages of using generators over regular functions?\n",
        "\n",
        "Answer:\n",
        "*   Memory-efficient (no need to store the entire sequence)\n",
        "*   Suitable for large data streams\n",
        "*   Lazy evaluation"
      ],
      "metadata": {
        "id": "95fL-8JtxXrs"
      }
    },
    {
      "cell_type": "markdown",
      "source": [
        "8. What is a lambda function in Python and when is it typically used?\n",
        "\n",
        "   Answer: A lambda function is an anonymous one-line function using the lambda keyword. Used where a small function is needed temporarily."
      ],
      "metadata": {
        "id": "rLO_rDYdx4mQ"
      }
    },
    {
      "cell_type": "markdown",
      "source": [
        "9. Explain the purpose and usage of the map() function in Python.\n",
        "\n",
        "   Answer: map() applies a function to every item in an iterable."
      ],
      "metadata": {
        "id": "nGNiUAXsx_Mr"
      }
    },
    {
      "cell_type": "markdown",
      "source": [
        "10. What is the difference between map(), reduce(), and filter() functions in Python?\n",
        "\n",
        "Answer:\n",
        "\n",
        "map() applies a function to each item.\n",
        "\n",
        "filter() filters items based on a condition.\n",
        "\n",
        "reduce() (from functools) applies a rolling computation to pairs of items."
      ],
      "metadata": {
        "id": "t29JRrP_zj4H"
      }
    },
    {
      "cell_type": "markdown",
      "source": [
        "11. Internal mechanism for sum using reduce()"
      ],
      "metadata": {
        "id": "Yq-Jmw0zzqcj"
      }
    },
    {
      "cell_type": "code",
      "source": [
        "#Answer\n",
        "\n",
        "from functools import reduce\n",
        "nums = [47, 11, 42, 13]\n",
        "result = reduce(lambda x, y: x + y, nums)\n",
        "print(result)"
      ],
      "metadata": {
        "colab": {
          "base_uri": "https://localhost:8080/"
        },
        "id": "1a74NRh1z7Nf",
        "outputId": "f507f3bf-5956-4073-b47c-9b47140e7408"
      },
      "execution_count": 1,
      "outputs": [
        {
          "output_type": "stream",
          "name": "stdout",
          "text": [
            "113\n"
          ]
        }
      ]
    },
    {
      "cell_type": "markdown",
      "source": [
        "##Practical Question & Answer"
      ],
      "metadata": {
        "id": "55bRlRjL0K-g"
      }
    },
    {
      "cell_type": "markdown",
      "source": [
        "Write a Python function that takes a list of numbers as input and returns the sum of all even numbers in the list."
      ],
      "metadata": {
        "id": "r3YTsaVq0Ira"
      }
    },
    {
      "cell_type": "code",
      "source": [
        "#Answer\n",
        "\n",
        "print(sum_even([19, 22, 31, 64, 57, 36]))"
      ],
      "metadata": {
        "colab": {
          "base_uri": "https://localhost:8080/"
        },
        "id": "NED6IDuD0nis",
        "outputId": "2ba98cb4-2d2c-4102-bb91-23f842740b1c"
      },
      "execution_count": 7,
      "outputs": [
        {
          "output_type": "stream",
          "name": "stdout",
          "text": [
            "122\n"
          ]
        }
      ]
    },
    {
      "cell_type": "markdown",
      "source": [
        "2. Create a Python function that accepts a string and returns the reverse of that string."
      ],
      "metadata": {
        "id": "YokrW95G1kqk"
      }
    },
    {
      "cell_type": "code",
      "source": [
        "#Answer\n",
        "\n",
        "def reverse_string(s):\n",
        "    return s[::-1]\n",
        "\n",
        "# Example:\n",
        "print(reverse_string(\"Learning\"))"
      ],
      "metadata": {
        "colab": {
          "base_uri": "https://localhost:8080/"
        },
        "id": "qbCHZApo1rGs",
        "outputId": "94c57b30-0cae-4914-9058-b90998e9b121"
      },
      "execution_count": 11,
      "outputs": [
        {
          "output_type": "stream",
          "name": "stdout",
          "text": [
            "gninraeL\n"
          ]
        }
      ]
    },
    {
      "cell_type": "markdown",
      "source": [
        "3. Implement a Python function that takes a list of integers and returns a new list containing the squares of each number."
      ],
      "metadata": {
        "id": "z0_eM-5i2Ehj"
      }
    },
    {
      "cell_type": "code",
      "source": [
        "#Answer\n",
        "\n",
        "def square_list(lst):\n",
        "    return [x**2 for x in lst]\n",
        "\n",
        "# Example:\n",
        "print(square_list([11, 22, 33, 44]))"
      ],
      "metadata": {
        "colab": {
          "base_uri": "https://localhost:8080/"
        },
        "id": "tYQb7TA32INR",
        "outputId": "04ebdd54-f1c7-4e99-b21c-7013a1f21c71"
      },
      "execution_count": 14,
      "outputs": [
        {
          "output_type": "stream",
          "name": "stdout",
          "text": [
            "[121, 484, 1089, 1936]\n"
          ]
        }
      ]
    },
    {
      "cell_type": "markdown",
      "source": [
        "4. Write a Python function that checks if a given number is prime or not from 1 to 200"
      ],
      "metadata": {
        "id": "T6_5JGp82Prs"
      }
    },
    {
      "cell_type": "code",
      "source": [
        "#Answer\n",
        "\n",
        "def is_prime(n):\n",
        "    if n <= 1:\n",
        "        return False\n",
        "    for i in range(2, int(n**0.5)+1):\n",
        "        if n % i == 0:\n",
        "            return False\n",
        "    return True\n",
        "\n",
        "primes = [n for n in range(1, 95) if is_prime(n)]\n",
        "print(primes)"
      ],
      "metadata": {
        "colab": {
          "base_uri": "https://localhost:8080/"
        },
        "id": "UPsO_4zY2VrN",
        "outputId": "6bfb35a4-1804-4da2-f21a-327262211db5"
      },
      "execution_count": 18,
      "outputs": [
        {
          "output_type": "stream",
          "name": "stdout",
          "text": [
            "[2, 3, 5, 7, 11, 13, 17, 19, 23, 29, 31, 37, 41, 43, 47, 53, 59, 61, 67, 71, 73, 79, 83, 89]\n"
          ]
        }
      ]
    },
    {
      "cell_type": "markdown",
      "source": [
        "5. Create an iterator class in Python that generates the Fibonacci sequence up to a specified number of terms."
      ],
      "metadata": {
        "id": "gtpPM1bz2st2"
      }
    },
    {
      "cell_type": "code",
      "source": [
        "#Answer\n",
        "\n",
        "class Fibonacci:\n",
        "    def __init__(self, n):\n",
        "        self.n = n\n",
        "        self.a, self.b = 0, 1\n",
        "        self.count = 0\n",
        "\n",
        "    def __iter__(self):\n",
        "        return self\n",
        "\n",
        "    def __next__(self):\n",
        "        if self.count < self.n:\n",
        "            val = self.a\n",
        "            self.a, self.b = self.b, self.a + self.b\n",
        "            self.count += 1\n",
        "            return val\n",
        "        else:\n",
        "            raise StopIteration\n",
        "\n",
        "for num in Fibonacci(10):\n",
        "    print(num, end=\" \")"
      ],
      "metadata": {
        "colab": {
          "base_uri": "https://localhost:8080/"
        },
        "id": "WQTBdjg53Cl0",
        "outputId": "e196750c-a164-4353-80a6-7b418c3372ec"
      },
      "execution_count": 19,
      "outputs": [
        {
          "output_type": "stream",
          "name": "stdout",
          "text": [
            "0 1 1 2 3 5 8 13 21 34 "
          ]
        }
      ]
    },
    {
      "cell_type": "markdown",
      "source": [
        "6. Write a generator function in Python that yields the powers of 2 up to a given exponent."
      ],
      "metadata": {
        "id": "6usRJQ8U2xLH"
      }
    },
    {
      "cell_type": "code",
      "source": [
        "#Answer\n",
        "\n",
        "def powers_of_two(exp):\n",
        "    for i in range(exp + 1):\n",
        "        yield 2 ** i\n",
        "\n",
        "# Example:\n",
        "for val in powers_of_two(5):\n",
        "    print(val)"
      ],
      "metadata": {
        "colab": {
          "base_uri": "https://localhost:8080/"
        },
        "id": "UDrjb-283L3k",
        "outputId": "1be64774-1b90-4811-ea76-8e520eefe7d4"
      },
      "execution_count": 20,
      "outputs": [
        {
          "output_type": "stream",
          "name": "stdout",
          "text": [
            "1\n",
            "2\n",
            "4\n",
            "8\n",
            "16\n",
            "32\n"
          ]
        }
      ]
    },
    {
      "cell_type": "markdown",
      "source": [
        "7. Implement a generator function that reads a file line by line and yields each line as a string."
      ],
      "metadata": {
        "id": "xRV1Pbip20Yg"
      }
    },
    {
      "cell_type": "markdown",
      "source": [
        "8. Use a lambda function in Python to sort a list of tuples based on the second element of each tuple."
      ],
      "metadata": {
        "id": "7QGll4pm23Df"
      }
    },
    {
      "cell_type": "code",
      "source": [
        "#Answer\n",
        "\n",
        "lst = [(1, 3), (2, 1), (3, 2)]\n",
        "sorted_lst = sorted(lst, key=lambda x: x[1])\n",
        "print(sorted_lst)"
      ],
      "metadata": {
        "colab": {
          "base_uri": "https://localhost:8080/"
        },
        "id": "Nvb3bDvv3fwp",
        "outputId": "dd2e7f43-dfab-4822-8896-46ce7d7e7b9f"
      },
      "execution_count": 23,
      "outputs": [
        {
          "output_type": "stream",
          "name": "stdout",
          "text": [
            "[(2, 1), (3, 2), (1, 3)]\n"
          ]
        }
      ]
    },
    {
      "cell_type": "markdown",
      "source": [
        "9. Write a Python program that uses map() to convert a list of temperatures from Celsius to Fahrenheit."
      ],
      "metadata": {
        "id": "SltMYkk426HP"
      }
    },
    {
      "cell_type": "code",
      "source": [
        "#Answer\n",
        "\n",
        "celsius = [0, 20, 30, 40]\n",
        "fahrenheit = list(map(lambda c: (c * 9/5) + 32, celsius))\n",
        "print(fahrenheit)"
      ],
      "metadata": {
        "colab": {
          "base_uri": "https://localhost:8080/"
        },
        "id": "0Ou6XFIg3lwE",
        "outputId": "b197b74a-d5cc-4602-a117-6f7a56014d6a"
      },
      "execution_count": 24,
      "outputs": [
        {
          "output_type": "stream",
          "name": "stdout",
          "text": [
            "[32.0, 68.0, 86.0, 104.0]\n"
          ]
        }
      ]
    },
    {
      "cell_type": "markdown",
      "source": [
        "10. Create a Python program that uses filter() to remove all the vowels from a given string."
      ],
      "metadata": {
        "id": "l4Ru2Twj2805"
      }
    },
    {
      "cell_type": "code",
      "source": [
        "#Answer\n",
        "\n",
        "def remove_vowels(s):\n",
        "    vowels = 'aeiouAEIOU'\n",
        "    return ''.join(filter(lambda ch: ch not in vowels, s))\n",
        "\n",
        "# Example:\n",
        "print(remove_vowels(\"PW Skills Learing\"))"
      ],
      "metadata": {
        "colab": {
          "base_uri": "https://localhost:8080/"
        },
        "id": "EEIB_tYv3qKG",
        "outputId": "15f88f0d-737b-4902-be4a-731cc5585a08"
      },
      "execution_count": 26,
      "outputs": [
        {
          "output_type": "stream",
          "name": "stdout",
          "text": [
            "PW Sklls Lrng\n"
          ]
        }
      ]
    },
    {
      "cell_type": "markdown",
      "source": [
        "11. Imagine an accounting routine used in a book shop. It works on a list with sublists, which look like this:"
      ],
      "metadata": {
        "id": "xAHZfBNs2_bG"
      }
    },
    {
      "cell_type": "code",
      "source": [
        "#Answer\n",
        "\n",
        "orders = [\n",
        "    [34587, \"Learning Python\", 4, 40.95],\n",
        "    [98762, \"Programming Java\", 5, 17.50],\n",
        "    [77226, \"Data Science\", 3, 56.00],\n",
        "    [88112, \"AI Basics\", 3, 32.95]\n",
        "]\n",
        "\n",
        "result = list(map(lambda order:\n",
        "    (order[0], order[2]*order[3] if order[2]*order[3] >= 100 else order[2]*order[3] + 10),\n",
        "    orders))\n",
        "\n",
        "print(result)"
      ],
      "metadata": {
        "colab": {
          "base_uri": "https://localhost:8080/"
        },
        "id": "urxqJhpT31td",
        "outputId": "26ee93c9-f508-4ca3-a050-446dad327b6a"
      },
      "execution_count": 27,
      "outputs": [
        {
          "output_type": "stream",
          "name": "stdout",
          "text": [
            "[(34587, 163.8), (98762, 97.5), (77226, 168.0), (88112, 108.85000000000001)]\n"
          ]
        }
      ]
    }
  ]
}